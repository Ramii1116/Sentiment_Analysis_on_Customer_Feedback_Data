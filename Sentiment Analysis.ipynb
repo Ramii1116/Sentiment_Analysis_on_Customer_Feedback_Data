{
 "cells": [
  {
   "cell_type": "markdown",
   "id": "108102fb-165f-4ab8-bbd3-44b472ca3bab",
   "metadata": {},
   "source": [
    "# Sentiment Analysis on Customer Feedback Data\n",
    "This script analyzes customer feedback by applying sentiment analysis on the CustomerComments column in the dataset. The sentiment analysis determines whether customer feedback is positive, negative, or neutral. The analysis uses VADER's SentimentIntensityAnalyzer, and insights are visualized using bar plots.\n"
   ]
  },
  {
   "cell_type": "markdown",
   "id": "8749d4f7-1884-4b72-b1fe-bdfe0270522b",
   "metadata": {},
   "source": [
    "# Objective\n",
    "- Load customer feedback data from a CSV file.\n",
    "- Process and classify customer comments into sentiment categories: Positive, Negative, and Neutral.\n",
    "- Summarize sentiment data and visualize it using bar plots."
   ]
  },
  {
   "cell_type": "markdown",
   "id": "4baf1c34-1401-432d-80c6-358db929dd26",
   "metadata": {},
   "source": [
    "# Step-by-Step Code Explanation"
   ]
  },
  {
   "cell_type": "markdown",
   "id": "0ff14e29-278f-4ae3-97e6-85351d8f19ca",
   "metadata": {},
   "source": [
    "# 1. Import Required Libraries"
   ]
  },
  {
   "cell_type": "code",
   "execution_count": 1,
   "id": "63848aaa-7d65-40eb-a191-81b5bfa2dff6",
   "metadata": {},
   "outputs": [],
   "source": [
    "import pandas as pd\n",
    "import matplotlib.pyplot as plt\n",
    "import seaborn as sns\n",
    "from nltk.sentiment.vader import SentimentIntensityAnalyzer"
   ]
  },
  {
   "cell_type": "markdown",
   "id": "0189a2fd-b599-49c6-853b-b3b7144ecd77",
   "metadata": {},
   "source": [
    "- pandas: Used to load and manipulate datasets in tabular form.\n",
    "- matplotlib.pyplot & seaborn: Used for data visualization to plot insights.\n",
    "- nltk.sentiment.vader.SentimentIntensityAnalyzer: Pre-trained sentiment analysis model for classifying text into sentiment scores."
   ]
  },
  {
   "cell_type": "markdown",
   "id": "816b47a8-ce51-4792-b510-850d54f51b96",
   "metadata": {},
   "source": [
    "# 2. Load the Data"
   ]
  },
  {
   "cell_type": "code",
   "execution_count": 2,
   "id": "7bd220e7-18f1-4ce0-bcf3-b277b5dc4105",
   "metadata": {},
   "outputs": [
    {
     "name": "stdout",
     "output_type": "stream",
     "text": [
      "Data loaded successfully!\n"
     ]
    }
   ],
   "source": [
    "import pandas as pd\n",
    "\n",
    "# Attempt to read the Excel file\n",
    "try:\n",
    "    df = pd.read_excel(r\"C:\\Users\\rames\\updated_telecom_customer_data (1).xlsx\")\n",
    "    print(\"Data loaded successfully!\")\n",
    "except Exception as e:\n",
    "    print(\"Error loading data: \", e)"
   ]
  },
  {
   "cell_type": "markdown",
   "id": "d17ab583-2207-4d35-a819-44b2624cd2bb",
   "metadata": {},
   "source": [
    "# Explanation:\n",
    "- data_path: Path to the dataset file.\n",
    "- delimiter=',': Specifies that the file uses commas as delimiters.\n",
    "- on_bad_lines='skip': Ignores problematic rows that do not match expected formats to prevent the script from failing.\n",
    "- encoding='utf-8': Ensures compatibility with UTF-8 encoded files.\n",
    "- Error Handling: If any issue occurs while loading the file, an exception will print the error message.\n",
    "# Why This Is Important:\n",
    "Datasets can have missing values, encoding issues, or malformed rows. The try/except block ensures the script handles these gracefully."
   ]
  },
  {
   "cell_type": "markdown",
   "id": "3e0d7807-b7fe-4c64-b97c-5182e17aadad",
   "metadata": {},
   "source": [
    "# 3. Verify Data is Loaded Properly\n"
   ]
  },
  {
   "cell_type": "code",
   "execution_count": 3,
   "id": "49b849c9-37ff-4e3b-9d1d-159c94d26980",
   "metadata": {},
   "outputs": [
    {
     "name": "stdout",
     "output_type": "stream",
     "text": [
      "Dataset Head:\n",
      "    CustomerID  Gender  SeniorCitizen Partner Dependents  Tenure  \\\n",
      "0           1    Male              0      No        Yes      61   \n",
      "1           2  Female              0      No         No      68   \n",
      "2           3    Male              0      No         No      62   \n",
      "3           4    Male              1     Yes         No       1   \n",
      "4           5    Male              0     Yes        Yes      53   \n",
      "\n",
      "  other PhoneService     MultipleLines InternetService       OnlineSecurity  \\\n",
      "0                Yes  No phone service             DSL                   No   \n",
      "1                Yes                No     Fiber optic  No internet service   \n",
      "2                 No               Yes              No  No internet service   \n",
      "3                Yes                No     Fiber optic  No internet service   \n",
      "4                Yes               Yes     Fiber optic                   No   \n",
      "\n",
      "   ... DeviceProtection          TechSupport StreamingTV      StreamingMovies  \\\n",
      "0  ...              Yes                   No          No  No internet service   \n",
      "1  ...               No                  Yes         Yes                   No   \n",
      "2  ...              Yes                  Yes          No  No internet service   \n",
      "3  ...               No                   No         Yes                  Yes   \n",
      "4  ...              Yes  No internet service          No                  Yes   \n",
      "\n",
      "         Contract PaperlessBilling              PaymentMethod MonthlyCharges  \\\n",
      "0  Month-to-month               No  Bank transfer (automatic)          55.94   \n",
      "1        Two year              Yes    Credit card (automatic)          41.95   \n",
      "2        Two year               No  Bank transfer (automatic)          49.97   \n",
      "3        Two year               No    Credit card (automatic)          76.80   \n",
      "4        One year              Yes    Credit card (automatic)         106.40   \n",
      "\n",
      "   TotalCharges                                   CustomerComments  \n",
      "0       3284.38             Happy with the service, no complaints.  \n",
      "1        151.56  Switching to another provider due to poor serv...  \n",
      "2       3445.57         Terrible customer support, will not renew.  \n",
      "3       4758.77   Experiencing frequent outages, very frustrating.  \n",
      "4        832.79      Reasonable prices but internet speed is slow.  \n",
      "\n",
      "[5 rows x 21 columns]\n"
     ]
    }
   ],
   "source": [
    "# Check the first few rows to ensure data is loaded correctly\n",
    "print(\"Dataset Head:\\n\", df.head())"
   ]
  },
  {
   "cell_type": "markdown",
   "id": "9d47b723-361e-4343-961d-1d6d1ba0afcc",
   "metadata": {},
   "source": [
    "- Displays the first 5 rows of the dataset to ensure that:\n",
    "- The data is loaded successfully.\n",
    "- Required fields like CustomerComments exist."
   ]
  },
  {
   "cell_type": "markdown",
   "id": "957a5f03-2ad5-4e66-9e6f-41b045865045",
   "metadata": {},
   "source": [
    "# 4. Ensure Required Column Exists"
   ]
  },
  {
   "cell_type": "code",
   "execution_count": 4,
   "id": "2b3bf94c-0bf5-4130-a7ef-d4e24ea42a05",
   "metadata": {},
   "outputs": [],
   "source": [
    "if 'CustomerComments' not in df.columns:\n",
    "    raise ValueError(\"CustomerComments column not found in the dataset\")"
   ]
  },
  {
   "cell_type": "markdown",
   "id": "7fcd9b9e-d08b-427f-8b1d-a3a27b3464c4",
   "metadata": {},
   "source": [
    "# Explanation:\n",
    "- Before proceeding, ensure the presence of the CustomerComments column in the loaded data.\n",
    "- If it is missing, the script stops execution to prevent errors during sentiment analysis."
   ]
  },
  {
   "cell_type": "markdown",
   "id": "cd27bd44-9970-4f70-9265-f6b874d1a223",
   "metadata": {},
   "source": [
    "# 5. Initialize Sentiment Analysis Tool"
   ]
  },
  {
   "cell_type": "code",
   "execution_count": 5,
   "id": "48cdade7-4cbb-45e7-9f06-8b518e38e436",
   "metadata": {},
   "outputs": [],
   "source": [
    "analyzer = SentimentIntensityAnalyzer()"
   ]
  },
  {
   "cell_type": "markdown",
   "id": "61e9268c-62db-4321-a3a9-20e53db27356",
   "metadata": {},
   "source": [
    "# VADER Sentiment Analysis:\n",
    "- A pre-trained NLP model from the nltk library.\n",
    "- Converts customer feedback into sentiment scores (-1 to 1).\n",
    "- Positive values indicate positive sentiment, negative values indicate negative sentiment, and values close to zero imply neutrality."
   ]
  },
  {
   "cell_type": "markdown",
   "id": "eff6530c-1021-4b6a-8b82-b113d964fe7a",
   "metadata": {},
   "source": [
    "# 6. Define Sentiment Analysis Logic"
   ]
  },
  {
   "cell_type": "code",
   "execution_count": 6,
   "id": "be61a4d8-a190-4b70-b595-5f8eb013ac57",
   "metadata": {},
   "outputs": [],
   "source": [
    "def get_sentiment_score(comment):\n",
    "    \"\"\"\n",
    "    Analyze sentiment for a given comment using VADER SentimentIntensityAnalyzer\n",
    "    Returns:\n",
    "    - 'Positive' for positive sentiment\n",
    "    - 'Negative' for negative sentiment\n",
    "    - 'Neutral' for neutral sentiment\n",
    "    \"\"\"\n",
    "    # Check if comment is a valid string\n",
    "    if not isinstance(comment, str):\n",
    "        return 'Neutral'  # Handle missing or invalid text input\n",
    "\n",
    "    # Get sentiment scores from VADER\n",
    "    sentiment_score = analyzer.polarity_scores(comment)['compound']\n",
    "\n",
    "    # Classify into Positive, Negative, or Neutral based on compound score\n",
    "    if sentiment_score >= 0.05:\n",
    "        return 'Positive'\n",
    "    elif sentiment_score <= -0.05:\n",
    "        return 'Negative'\n",
    "    else:\n",
    "        return 'Neutral'\n"
   ]
  },
  {
   "cell_type": "markdown",
   "id": "8f100367-6558-40c9-922d-19f7aa08f799",
   "metadata": {},
   "source": [
    "# Explanation:\n",
    "#Input Validation:\n",
    "- Checks if comment is a string.\n",
    "- If invalid or missing, classify it as 'Neutral'.\n",
    "# Sentiment Scoring:\n",
    "- analyzer.polarity_scores(comment)['compound']: Returns a sentiment score between -1 and 1.\n",
    "- Positive values → Positive sentiment.\n",
    "- Negative values → Negative sentiment.\n",
    "- Near zero → Neutral sentiment.\n",
    "# Classification Logic:\n",
    "# Sentiment is categorized based on thresholds:\n",
    "- >= 0.05: Positive sentiment.\n",
    "- <= -0.05: Negative sentiment.\n",
    "- Else → Neutral sentiment."
   ]
  },
  {
   "cell_type": "markdown",
   "id": "78cdc187-4801-4415-b756-9ccca30bde8c",
   "metadata": {},
   "source": [
    "# 7. Apply Sentiment Classification to Data\n"
   ]
  },
  {
   "cell_type": "code",
   "execution_count": 10,
   "id": "e190230e-b95c-45c1-b111-a2ca5826950f",
   "metadata": {},
   "outputs": [
    {
     "data": {
      "text/plain": [
       "0       Negative\n",
       "1       Negative\n",
       "2       Negative\n",
       "3       Negative\n",
       "4        Neutral\n",
       "          ...   \n",
       "4995     Neutral\n",
       "4996    Negative\n",
       "4997    Positive\n",
       "4998    Negative\n",
       "4999    Positive\n",
       "Name: Sentiment, Length: 5000, dtype: object"
      ]
     },
     "execution_count": 10,
     "metadata": {},
     "output_type": "execute_result"
    }
   ],
   "source": [
    "df['Sentiment'] = df['CustomerComments'].apply(get_sentiment_score)\n",
    "df['Sentiment']"
   ]
  },
  {
   "cell_type": "markdown",
   "id": "25789123-4252-4c15-9690-e776bcddb2cf",
   "metadata": {},
   "source": [
    "# Explanation:\n",
    "- Apply the get_sentiment_score function to each row in the CustomerComments column.\n",
    "- This adds a new column Sentiment to the DataFrame, classifying each comment as Positive, Negative, or Neutral."
   ]
  },
  {
   "cell_type": "markdown",
   "id": "69ce0826-d445-4108-9365-48b5f3c8fb73",
   "metadata": {},
   "source": [
    "# 8. Summarize Sentiment Counts"
   ]
  },
  {
   "cell_type": "code",
   "execution_count": 8,
   "id": "58af6661-0e7b-4e5f-a6d3-79ee3ca0df19",
   "metadata": {},
   "outputs": [
    {
     "name": "stdout",
     "output_type": "stream",
     "text": [
      "Sentiment counts:\n",
      " Sentiment\n",
      "Positive    2526\n",
      "Negative    1989\n",
      "Neutral      485\n",
      "Name: count, dtype: int64\n"
     ]
    }
   ],
   "source": [
    "sentiment_counts = df['Sentiment'].value_counts()\n",
    "print(\"Sentiment counts:\\n\", sentiment_counts)"
   ]
  },
  {
   "cell_type": "markdown",
   "id": "73121784-2475-47a8-8b1e-dd3326aea074",
   "metadata": {},
   "source": [
    "- Summarizes how many customer comments fall into each sentiment category.\n",
    "- value_counts() calculates the counts of unique values in the Sentiment column.\n"
   ]
  },
  {
   "cell_type": "markdown",
   "id": "3a422830-7e4f-41d5-94e0-adb1fdf1d59e",
   "metadata": {},
   "source": [
    "# 9. Visualize Sentiment Distribution"
   ]
  },
  {
   "cell_type": "code",
   "execution_count": 9,
   "id": "36b05c75-659a-42c4-8259-213aa2248551",
   "metadata": {},
   "outputs": [
    {
     "data": {
      "image/png": "[encoded data removed]",
      "text/plain": [
       "<Figure size 1000x600 with 1 Axes>"
      ]
     },
     "metadata": {},
     "output_type": "display_data"
    }
   ],
   "source": [
    "sns.set_style(\"whitegrid\")\n",
    "plt.figure(figsize=(10, 6))\n",
    "sns.barplot(x=sentiment_counts.index, y=sentiment_counts.values, palette=\"viridis\")\n",
    "plt.title(\"Sentiment Distribution Among Customer Comments\")\n",
    "plt.xlabel(\"Sentiment\")\n",
    "plt.ylabel(\"Number of Customers\")\n",
    "plt.show()\n"
   ]
  },
  {
   "cell_type": "markdown",
   "id": "55f32d69-24dc-44d0-b0cd-195b79d5171a",
   "metadata": {},
   "source": [
    "# CONCLUSION\n",
    "## Key Insights from the Graph\n",
    "### 1. Positive Sentiments\n",
    "### Observation:\n",
    "- The Positive sentiment bar is the tallest, indicating that a majority of customers expressed positive feedback.\n",
    "- The number of customers with positive sentiment is around 2500.\n",
    "### Insight:\n",
    "- Many customers are satisfied with the service, highlighting strong areas in customer satisfaction.\n",
    "### 2. Negative Sentiments\n",
    "### Observation:\n",
    "- The Negative sentiment bar is the second tallest.\n",
    "- The number of customers with a negative sentiment is close to 2000.\n",
    "### Insight:\n",
    "- While many customers are satisfied, there is a substantial number of dissatisfied customers.\n",
    "- Areas contributing to negative sentiment could include issues with billing, technical problems, customer service, or service interruptions.\n",
    "### 3. Neutral Sentiments\n",
    "### Observation:\n",
    "- The Neutral sentiment bar is the shortest, with around 500 customers expressing neutral feedback.\n",
    "### Insight:\n",
    "- Neutral sentiment indicates indifference or a lack of strong opinions from customers. This could represent customers who are neither actively dissatisfied nor particularly impressed.\n",
    "- General Trend Analysis\n"
   ]
  },
  {
   "cell_type": "markdown",
   "id": "47bb0f4f-21fe-422c-9436-97f5595e7e67",
   "metadata": {},
   "source": [
    "# From the bar chart:\n",
    "### Dominance of Positive Sentiments:\n",
    "- A significant number of customers have expressed satisfaction. This is a good indicator of areas where customer experience initiatives are working well.\n",
    "### Significant Negative Sentiments:\n",
    "- Despite the positive sentiments, the high number of customers expressing dissatisfaction suggests that addressing the root causes (e.g., customer service, technical issues, network problems, payment options) could improve customer retention.\n",
    "### Neutral Sentiments:\n",
    "- The small neutral customer base represents an opportunity. Strategies could target these individuals to convert their sentiment to positive by improving engagement, offering personalized solutions, or solving latent customer concerns."
   ]
  },
  {
   "cell_type": "code",
   "execution_count": null,
   "id": "475ef4de-e15a-462f-baef-21c2b9b46b4d",
   "metadata": {},
   "outputs": [],
   "source": []
  }
 ],
 "metadata": {
  "kernelspec": {
   "display_name": "Python 3 (ipykernel)",
   "language": "python",
   "name": "python3"
  },
  "language_info": {
   "codemirror_mode": {
    "name": "ipython",
    "version": 3
   },
   "file_extension": ".py",
   "mimetype": "text/x-python",
   "name": "python",
   "nbconvert_exporter": "python",
   "pygments_lexer": "ipython3",
   "version": "3.11.7"
  }
 },
 "nbformat": 4,
 "nbformat_minor": 5
}
